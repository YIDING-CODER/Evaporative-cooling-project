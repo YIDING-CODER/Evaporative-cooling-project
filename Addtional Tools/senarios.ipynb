{
 "cells": [
  {
   "cell_type": "code",
   "execution_count": null,
   "metadata": {
    "collapsed": true
   },
   "outputs": [],
   "source": []
  },
  {
   "cell_type": "code",
   "execution_count": 1,
   "metadata": {
    "collapsed": true
   },
   "outputs": [],
   "source": []
  },
  {
   "cell_type": "code",
   "execution_count": 4,
   "metadata": {
    "collapsed": true
   },
   "outputs": [],
   "source": []
  },
  {
   "cell_type": "code",
   "execution_count": 38,
   "metadata": {},
   "outputs": [],
   "source": [
    "# Milica, Please add all the senario by creating new functions\n",
    "#  *Please name the function as \"senario\"+\"number\"\n",
    "#  *Please make sure the senario number is continuous, 1,2,3,4,5..n\n",
    "#  *All the senarios will be added to the final calculation automatically. \n",
    "\n",
    "\n",
    "def senario1(row):\n",
    "    T=row.Temperature\n",
    "    P=row.OccupancyCount\n",
    "    M=0\n",
    "    if T <= 20 and P < 10:\n",
    "        M = 0.4 * 10\n",
    "    elif T <= 20 and P >= 10:\n",
    "        M = 0.5 * 10 \n",
    "    elif 20 < T <= 25 and P < 10:\n",
    "        M = 0.6 * 10\n",
    "    elif 20 < T <= 25 and P >= 10:\n",
    "        M = 0.7 * 10\n",
    "    elif 25 < T <= 30 and P < 10:\n",
    "        M = 0.6 * 10\n",
    "    elif 25 < T <= 30 and P >= 10:\n",
    "        M = 0.6 * 10\n",
    "    elif T > 30:\n",
    "        M = 0.6 * 10\n",
    "    else:\n",
    "        M=0\n",
    "    return M\n",
    "\n",
    "def senario2(row):\n",
    "    T=row.Temperature\n",
    "    P=row.OccupancyCount\n",
    "    M=0\n",
    "    if 15 < T <= 20:\n",
    "        M = 0.3 * 10\n",
    "    elif 20<T <= 25:\n",
    "        M = 0.6 * 10 \n",
    "    elif 25 < T <= 30:\n",
    "        M = 0.8 * 10\n",
    "    elif T > 30:\n",
    "        M = 1 * 10\n",
    "    else:\n",
    "        M=0\n",
    "    return M\n",
    "\n",
    "def senario3(row):\n",
    "    T=row.Temperature\n",
    "    P=row.OccupancyCount\n",
    "    M=0\n",
    "    if 15 < T <= 20:\n",
    "        M = 0.25 * 10\n",
    "    elif 20<T <= 25:\n",
    "        M = 0.50 * 10 \n",
    "    elif 25 < T <= 30:\n",
    "        M = 0.75 * 10\n",
    "    elif T > 30:\n",
    "        M = 1 * 10\n",
    "    else:\n",
    "        M=0\n",
    "    return M\n",
    "\n",
    "def senario4(row):\n",
    "    T=row.Temperature\n",
    "    P=row.OccupancyCount\n",
    "    M=0\n",
    "    if 15 < T <= 20:\n",
    "        M = 0.15 * 10\n",
    "    elif 20<T <= 25:\n",
    "        M = 0.3 * 10 \n",
    "    elif 25 < T <= 30:\n",
    "        M = 0.6 * 10\n",
    "    elif T > 30:\n",
    "        M = 1 * 10\n",
    "    else:\n",
    "        M=0\n",
    "    return M\n",
    "\n",
    "# Do not need to update the code below\n",
    "import pandas as pd\n",
    "\n",
    "data_df=pd.read_excel(\"melbourne_temperature_calculated.xlsx\")\n",
    "\n",
    "senario_num=1\n",
    "senario=\"senario\"+str(senario_num)\n",
    "while senario in globals():\n",
    "    senario_func = globals()[senario]\n",
    "    data_df[senario]=data_df.apply(lambda row: senario_func(row),axis=1)\n",
    "    senario_num=senario_num+1\n",
    "    senario=\"senario\"+str(senario_num)\n",
    "data_df.to_excel(\"time_m.xlsx\",index=None)\n",
    "data_df.groupby([data_df['Time'].dt.date]).sum().reset_index().drop(columns=[\"Temperature\",\"OccupancyCount\"]).to_excel(\"sum_m.xlsx\",index=None)\n"
   ]
  },
  {
   "cell_type": "code",
   "execution_count": 9,
   "metadata": {
    "collapsed": true
   },
   "outputs": [],
   "source": [
    "\n"
   ]
  },
  {
   "cell_type": "code",
   "execution_count": null,
   "metadata": {},
   "outputs": [],
   "source": []
  },
  {
   "cell_type": "code",
   "execution_count": 21,
   "metadata": {},
   "outputs": [],
   "source": []
  },
  {
   "cell_type": "code",
   "execution_count": null,
   "metadata": {},
   "outputs": [],
   "source": []
  },
  {
   "cell_type": "code",
   "execution_count": null,
   "metadata": {},
   "outputs": [],
   "source": []
  },
  {
   "cell_type": "code",
   "execution_count": null,
   "metadata": {
    "collapsed": true
   },
   "outputs": [],
   "source": []
  },
  {
   "cell_type": "code",
   "execution_count": null,
   "metadata": {},
   "outputs": [],
   "source": []
  },
  {
   "cell_type": "code",
   "execution_count": null,
   "metadata": {},
   "outputs": [],
   "source": []
  },
  {
   "cell_type": "code",
   "execution_count": null,
   "metadata": {
    "collapsed": true
   },
   "outputs": [],
   "source": []
  },
  {
   "cell_type": "code",
   "execution_count": null,
   "metadata": {
    "collapsed": true
   },
   "outputs": [],
   "source": []
  }
 ],
 "metadata": {
  "kernelspec": {
   "display_name": "Python 3",
   "language": "python",
   "name": "python3"
  },
  "language_info": {
   "codemirror_mode": {
    "name": "ipython",
    "version": 3
   },
   "file_extension": ".py",
   "mimetype": "text/x-python",
   "name": "python",
   "nbconvert_exporter": "python",
   "pygments_lexer": "ipython3",
   "version": "3.6.6"
  }
 },
 "nbformat": 4,
 "nbformat_minor": 2
}
