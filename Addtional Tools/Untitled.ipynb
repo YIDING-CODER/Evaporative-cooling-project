{
 "cells": [
  {
   "cell_type": "code",
   "execution_count": 4,
   "metadata": {},
   "outputs": [],
   "source": [
    "# Number of scenarios generated\n",
    "NUM_SIMULATION=100\n",
    "\n",
    "# Default T0 range [Low,High]\n",
    "T0_LOW=10\n",
    "T0_HIGH=15\n",
    "\n",
    "\n",
    "# Do not need to update the code below------------------\n",
    "import random\n",
    "# @t0 initial temperature \n",
    "def scenario_template(row,t0):\n",
    "    T=row.Temperature\n",
    "    P=row.OccupancyCount\n",
    "    M=0\n",
    "    t0=t0+5\n",
    "\n",
    "    # start of the scenario logic\n",
    "    if T <= t0 and P < 10:\n",
    "        M = 0.4 * 10\n",
    "    elif T <= t0 and P >= 10:\n",
    "        M = 0.5 * 10\n",
    "    elif t0 < T <= t0+5 and P < 10:\n",
    "        M = 0.6 * 10\n",
    "    elif t0 < T <= t0+5 and P >= 10:\n",
    "        M = 0.7 * 10\n",
    "    elif t0+5 < T <= t0+10 and P < 10:\n",
    "        M = 0.6 * 10\n",
    "    elif t0+5 < T <= t0+10 and P >= 10:\n",
    "        M = 0.6 * 10\n",
    "    elif T > t0+10:\n",
    "        M = 0.6 * 10\n",
    "    else:\n",
    "        M=0\n",
    "    # End of the scenario logic\n",
    "\n",
    "    return M\n",
    "\n",
    "def get_random_number(low,high):\n",
    "    return round(random.uniform(low,high),2)\n",
    "\n",
    "import pandas as pd\n",
    "\n",
    "data_df=pd.read_excel(\"melbourne_temperature_calculated.xlsx\")\n",
    "data = {'scenarios': [\"Scenario\" + str(i+1) for i in range(NUM_SIMULATION)], 't0': [get_random_number(T0_LOW,T0_HIGH) for i in range(NUM_SIMULATION)]}\n",
    "\n",
    "scenario_df=pd.DataFrame(data)\n",
    "\n",
    "for index, row in scenario_df.iterrows():\n",
    "    data_df[row[\"scenarios\"]]=data_df.apply(lambda x: scenario_template(x,row[\"t0\"]),axis=1)\n",
    "data_df.to_excel(\"time_m.xlsx\",index=None)\n",
    "data_df.groupby([data_df['Time'].dt.date]).sum().reset_index().drop(columns=[\"Temperature\",\"OccupancyCount\"]).to_excel(\"sum_m.xlsx\",index=None)\n",
    "scenario_df.to_excel(\"senarios_t0.xlsx\",index=None)"
   ]
  },
  {
   "cell_type": "code",
   "execution_count": null,
   "metadata": {
    "collapsed": true
   },
   "outputs": [],
   "source": []
  }
 ],
 "metadata": {
  "kernelspec": {
   "display_name": "Python 3",
   "language": "python",
   "name": "python3"
  },
  "language_info": {
   "codemirror_mode": {
    "name": "ipython",
    "version": 3
   },
   "file_extension": ".py",
   "mimetype": "text/x-python",
   "name": "python",
   "nbconvert_exporter": "python",
   "pygments_lexer": "ipython3",
   "version": "3.6.6"
  }
 },
 "nbformat": 4,
 "nbformat_minor": 2
}
